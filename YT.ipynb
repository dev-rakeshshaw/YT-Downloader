{
 "cells": [
  {
   "cell_type": "markdown",
   "id": "193a9489-2358-4d30-9857-e002268e518d",
   "metadata": {
    "jp-MarkdownHeadingCollapsed": true
   },
   "source": [
    "# Single Video"
   ]
  },
  {
   "cell_type": "code",
   "execution_count": 5,
   "id": "66d7cffc-b2e0-405d-a28c-5bf29dc3a354",
   "metadata": {},
   "outputs": [
    {
     "name": "stdin",
     "output_type": "stream",
     "text": [
      "Enter the YouTube video URL:  https://www.youtube.com/watch?v=dwA24nEGohM\n"
     ]
    },
    {
     "name": "stdout",
     "output_type": "stream",
     "text": [
      "720p with audio available. Downloading...\n",
      "[youtube] Extracting URL: https://www.youtube.com/watch?v=dwA24nEGohM\n",
      "[youtube] dwA24nEGohM: Downloading webpage\n",
      "[youtube] dwA24nEGohM: Downloading ios player API JSON\n",
      "[youtube] dwA24nEGohM: Downloading mweb player API JSON\n",
      "[youtube] dwA24nEGohM: Downloading m3u8 information\n",
      "[info] dwA24nEGohM: Downloading 1 format(s): 302+251\n",
      "[download] Destination: downloads/Anil Ki Paneer Chaat लाजवाब 😋 । Achanak Se Kaha Jaana Pada 😮 | Rakesh's Life |/Anil Ki Paneer Chaat लाजवाब 😋 । Achanak Se Kaha Jaana Pada 😮 ｜ Rakesh's Life ｜.f302.webm\n",
      "[download] 100% of  253.51MiB in 00:01:21 at 3.11MiB/s      \n",
      "[download] Destination: downloads/Anil Ki Paneer Chaat लाजवाब 😋 । Achanak Se Kaha Jaana Pada 😮 | Rakesh's Life |/Anil Ki Paneer Chaat लाजवाब 😋 । Achanak Se Kaha Jaana Pada 😮 ｜ Rakesh's Life ｜.f251.webm\n",
      "[download] 100% of   12.88MiB in 00:00:04 at 2.88MiB/s   \n",
      "[Merger] Merging formats into \"downloads/Anil Ki Paneer Chaat लाजवाब 😋 । Achanak Se Kaha Jaana Pada 😮 | Rakesh's Life |/Anil Ki Paneer Chaat लाजवाब 😋 । Achanak Se Kaha Jaana Pada 😮 ｜ Rakesh's Life ｜.mp4\"\n",
      "Deleting original file downloads/Anil Ki Paneer Chaat लाजवाब 😋 । Achanak Se Kaha Jaana Pada 😮 | Rakesh's Life |/Anil Ki Paneer Chaat लाजवाब 😋 । Achanak Se Kaha Jaana Pada 😮 ｜ Rakesh's Life ｜.f251.webm (pass -k to keep)\n",
      "Deleting original file downloads/Anil Ki Paneer Chaat लाजवाब 😋 । Achanak Se Kaha Jaana Pada 😮 | Rakesh's Life |/Anil Ki Paneer Chaat लाजवाब 😋 । Achanak Se Kaha Jaana Pada 😮 ｜ Rakesh's Life ｜.f302.webm (pass -k to keep)\n",
      "Download complete! The video has been saved in: downloads/Anil Ki Paneer Chaat लाजवाब 😋 । Achanak Se Kaha Jaana Pada 😮 | Rakesh's Life |\n"
     ]
    }
   ],
   "source": [
    "import os\n",
    "import yt_dlp\n",
    "\n",
    "def download_video_with_audio():\n",
    "    \"\"\"\n",
    "    Downloads the video based on the following conditions:\n",
    "    - If 720p video with audio is available, download it.\n",
    "    - If 720p is not available, download 1080p with audio.\n",
    "    - If neither 720p nor 1080p are available, download the highest available resolution with audio.\n",
    "    - Create a folder inside 'output_directory' using the video title and save the downloaded video inside that folder.\n",
    "    \"\"\"\n",
    "    # Get YouTube URL from the user\n",
    "    video_url = input(\"Enter the YouTube video URL: \").strip()\n",
    "    \n",
    "    # Directory to save downloaded files\n",
    "    output_directory = \"downloads\"\n",
    "    \n",
    "    # Ensure the output directory exists\n",
    "    os.makedirs(output_directory, exist_ok=True)\n",
    "\n",
    "    try:\n",
    "        with yt_dlp.YoutubeDL({'quiet': True}) as ydl:\n",
    "            # Extract video info without downloading\n",
    "            info_dict = ydl.extract_info(video_url, download=False)\n",
    "            video_title = info_dict.get('title', 'Unnamed Video')\n",
    "            formats = info_dict.get('formats', [])\n",
    "\n",
    "            # Create a folder using the video title\n",
    "            video_folder = os.path.join(output_directory, video_title)\n",
    "            os.makedirs(video_folder, exist_ok=True)\n",
    "            \n",
    "            # Video format preferences (720p and 1080p)\n",
    "            preferred_formats = {\n",
    "                '720': '(bv*[height=720]+ba)',  # 720p with audio\n",
    "                '1080': '(bv*[height=1080]+ba)',  # 1080p with audio\n",
    "            }\n",
    "\n",
    "            # Check for 720p or 1080p video availability\n",
    "            is_720p_available = any(f.get('height') == 720 for f in formats)\n",
    "            is_1080p_available = any(f.get('height') == 1080 for f in formats)\n",
    "\n",
    "            if is_720p_available:\n",
    "                print(\"720p with audio available. Downloading...\")\n",
    "                ydl_opts = {\n",
    "                    'format': preferred_formats['720'],\n",
    "                    'merge_output_format': 'mp4',\n",
    "                    'outtmpl': os.path.join(video_folder, '%(title)s.%(ext)s'),\n",
    "                }\n",
    "            elif is_1080p_available:\n",
    "                print(\"720p not available. Downloading 1080p with audio...\")\n",
    "                ydl_opts = {\n",
    "                    'format': preferred_formats['1080'],\n",
    "                    'merge_output_format': 'mp4',\n",
    "                    'outtmpl': os.path.join(video_folder, '%(title)s.%(ext)s'),\n",
    "                }\n",
    "            else:\n",
    "                # If neither 720p nor 1080p are available, download the highest available resolution with audio\n",
    "                print(\"720p and 1080p are not available. Downloading the highest available resolution with audio...\")\n",
    "                highest_res_format = max(formats, key=lambda f: f.get('height', 0))  # Get highest resolution\n",
    "                ydl_opts = {\n",
    "                    'format': f\"b{highest_res_format['format_id']}+ba\",  # Highest resolution with audio\n",
    "                    'merge_output_format': 'mp4',\n",
    "                    'outtmpl': os.path.join(video_folder, '%(title)s.%(ext)s'),\n",
    "                }\n",
    "\n",
    "            # Download the selected video format\n",
    "            with yt_dlp.YoutubeDL(ydl_opts) as ydl:\n",
    "                ydl.download([video_url])\n",
    "\n",
    "            print(f\"Download complete! The video has been saved in: {video_folder}\")\n",
    "\n",
    "    except Exception as e:\n",
    "        print(f\"An error occurred: {e}\")\n",
    "\n",
    "# Run the function\n",
    "download_video_with_audio()\n"
   ]
  },
  {
   "cell_type": "markdown",
   "id": "6b868315-897e-4e91-8033-2a7521e17f45",
   "metadata": {
    "jp-MarkdownHeadingCollapsed": true
   },
   "source": [
    "# Playlist Video Download"
   ]
  },
  {
   "cell_type": "code",
   "execution_count": null,
   "id": "1f54c26a-3724-4416-94c2-f1a9b4f281d7",
   "metadata": {},
   "outputs": [
    {
     "name": "stdin",
     "output_type": "stream",
     "text": [
      "Enter the YouTube playlist URL:  https://www.youtube.com/watch?v=BP-w99ZINTc&list=PLu0W_9lII9aiS4rUVp2jXwIvCruo27sG6&index=1&t=5s\n"
     ]
    },
    {
     "name": "stdout",
     "output_type": "stream",
     "text": [
      "[youtube:tab] Extracting URL: https://www.youtube.com/watch?v=BP-w99ZINTc&list=PLu0W_9lII9aiS4rUVp2jXwIvCruo27sG6&index=1&t=5s\n",
      "[youtube:tab] Downloading playlist PLu0W_9lII9aiS4rUVp2jXwIvCruo27sG6 - add --no-playlist to download just the video BP-w99ZINTc\n",
      "[youtube:tab] PLu0W_9lII9aiS4rUVp2jXwIvCruo27sG6: Downloading webpage\n",
      "[youtube:tab] Extracting URL: https://www.youtube.com/playlist?list=PLu0W_9lII9aiS4rUVp2jXwIvCruo27sG6\n",
      "[youtube:tab] PLu0W_9lII9aiS4rUVp2jXwIvCruo27sG6: Downloading webpage\n",
      "[youtube:tab] PLu0W_9lII9aiS4rUVp2jXwIvCruo27sG6: Redownloading playlist API JSON with unavailable videos\n",
      "[download] Downloading playlist: Generative AI Series - Showcasing Generative AI By Building Projects\n",
      "[youtube:tab] PLu0W_9lII9aiS4rUVp2jXwIvCruo27sG6 page 1: Downloading API JSON\n"
     ]
    },
    {
     "name": "stderr",
     "output_type": "stream",
     "text": [
      "WARNING: [youtube:tab] Incomplete data received. Retrying (1/3)...\n"
     ]
    },
    {
     "name": "stdout",
     "output_type": "stream",
     "text": [
      "[youtube:tab] PLu0W_9lII9aiS4rUVp2jXwIvCruo27sG6 page 1: Downloading API JSON\n"
     ]
    },
    {
     "name": "stderr",
     "output_type": "stream",
     "text": [
      "WARNING: [youtube:tab] Incomplete data received. Retrying (2/3)...\n"
     ]
    },
    {
     "name": "stdout",
     "output_type": "stream",
     "text": [
      "[youtube:tab] PLu0W_9lII9aiS4rUVp2jXwIvCruo27sG6 page 1: Downloading API JSON\n"
     ]
    },
    {
     "name": "stderr",
     "output_type": "stream",
     "text": [
      "WARNING: [youtube:tab] Incomplete data received. Retrying (3/3)...\n"
     ]
    },
    {
     "name": "stdout",
     "output_type": "stream",
     "text": [
      "[youtube:tab] PLu0W_9lII9aiS4rUVp2jXwIvCruo27sG6 page 1: Downloading API JSON\n"
     ]
    },
    {
     "name": "stderr",
     "output_type": "stream",
     "text": [
      "WARNING: [youtube:tab] Incomplete data received. Giving up after 3 retries\n"
     ]
    },
    {
     "name": "stdout",
     "output_type": "stream",
     "text": [
      "[youtube:tab] Playlist Generative AI Series - Showcasing Generative AI By Building Projects: Downloading 6 items of 6\n",
      "[download] Downloading item 1 of 6\n",
      "[youtube] Extracting URL: https://www.youtube.com/watch?v=BP-w99ZINTc\n",
      "[youtube] BP-w99ZINTc: Downloading webpage\n",
      "[youtube] BP-w99ZINTc: Downloading ios player API JSON\n",
      "[youtube] BP-w99ZINTc: Downloading mweb player API JSON\n",
      "[youtube] BP-w99ZINTc: Downloading m3u8 information\n",
      "[download] Downloading item 2 of 6\n",
      "[youtube] Extracting URL: https://www.youtube.com/watch?v=dGdA9z6gBkM\n",
      "[youtube] dGdA9z6gBkM: Downloading webpage\n",
      "[youtube] dGdA9z6gBkM: Downloading ios player API JSON\n",
      "[youtube] dGdA9z6gBkM: Downloading mweb player API JSON\n",
      "[youtube] dGdA9z6gBkM: Downloading m3u8 information\n",
      "[download] Downloading item 3 of 6\n",
      "[youtube] Extracting URL: https://www.youtube.com/watch?v=cQUUkZnyoD0\n",
      "[youtube] cQUUkZnyoD0: Downloading webpage\n",
      "[youtube] cQUUkZnyoD0: Downloading ios player API JSON\n",
      "[youtube] cQUUkZnyoD0: Downloading mweb player API JSON\n"
     ]
    }
   ],
   "source": [
    "import os\n",
    "import yt_dlp\n",
    "\n",
    "def download_playlist_with_audio(playlist_url, output_directory=\"downloads\"):\n",
    "    \"\"\"\n",
    "    Downloads a YouTube playlist with the specified conditions:\n",
    "    - Downloads 720p video with audio if available.\n",
    "    - If 720p is not available, downloads 1080p with audio.\n",
    "    - If neither is available, downloads the highest resolution with audio.\n",
    "    - Saves all videos in a folder named after the playlist title.\n",
    "\n",
    "    Args:\n",
    "        playlist_url (str): The YouTube playlist URL.\n",
    "        output_directory (str): The base directory to save the playlist.\n",
    "    \"\"\"\n",
    "    # Ensure the output directory exists\n",
    "    os.makedirs(output_directory, exist_ok=True)\n",
    "\n",
    "    def progress_hook(d):\n",
    "        \"\"\"Display download progress.\"\"\"\n",
    "        if d['status'] == 'finished':\n",
    "            print(f\"Downloaded: {d['filename']}\")\n",
    "\n",
    "    ydl_opts = {\n",
    "        'quiet': False,\n",
    "        'format': '(bv*[height=720]+ba/bv*[height=1080]+ba/bv+ba/b)',\n",
    "        'merge_output_format': 'mp4',\n",
    "        'progress_hooks': [progress_hook],\n",
    "        'outtmpl': f'{output_directory}/%(playlist_title)s/%(playlist_index)s - %(title)s.%(ext)s',  # Folder for playlist\n",
    "        'postprocessors': [{\n",
    "            'key': 'FFmpegVideoConvertor',\n",
    "            'preferedformat': 'mp4',\n",
    "        }],\n",
    "        'skip_download': False,  # Ensure videos are downloaded\n",
    "    }\n",
    "\n",
    "    try:\n",
    "        with yt_dlp.YoutubeDL(ydl_opts) as ydl:\n",
    "            info_dict = ydl.extract_info(playlist_url, download=False)\n",
    "            if \"entries\" not in info_dict:\n",
    "                print(\"No videos found in the playlist!\")\n",
    "                return\n",
    "\n",
    "            playlist_title = info_dict.get('title', 'Unnamed Playlist')\n",
    "            print(f\"Downloading playlist: {playlist_title}\")\n",
    "\n",
    "            # Download videos in the playlist\n",
    "            ydl.download([playlist_url])\n",
    "\n",
    "        print(f\"All videos from '{playlist_title}' have been downloaded!\")\n",
    "\n",
    "    except Exception as e:\n",
    "        print(f\"An error occurred: {e}\")\n",
    "\n",
    "# Example usage\n",
    "playlist_url = input(\"Enter the YouTube playlist URL: \").strip()\n",
    "download_playlist_with_audio(playlist_url)\n"
   ]
  },
  {
   "cell_type": "markdown",
   "id": "aa64da33-d2a9-4858-9524-0fe7e829fc9c",
   "metadata": {},
   "source": [
    "# Combined"
   ]
  },
  {
   "cell_type": "code",
   "execution_count": 1,
   "id": "4013d432-2bf1-4089-96e0-b09a0de2bb33",
   "metadata": {},
   "outputs": [
    {
     "name": "stdin",
     "output_type": "stream",
     "text": [
      "Enter the YouTube URL (single video or playlist):  https://www.youtube.com/watch?v=BP-w99ZINTc&list=PLu0W_9lII9aiS4rUVp2jXwIvCruo27sG6&index=1&t=5s\n"
     ]
    },
    {
     "name": "stderr",
     "output_type": "stream",
     "text": [
      "WARNING: [youtube:tab] Incomplete data received. Retrying (1/3)...\n",
      "WARNING: [youtube:tab] Incomplete data received. Retrying (2/3)...\n",
      "WARNING: [youtube:tab] Incomplete data received. Retrying (3/3)...\n",
      "WARNING: [youtube:tab] Incomplete data received. Giving up after 3 retries\n"
     ]
    },
    {
     "name": "stdout",
     "output_type": "stream",
     "text": [
      "Detected playlist URL.\n",
      "[youtube:tab] Extracting URL: https://www.youtube.com/watch?v=BP-w99ZINTc&list=PLu0W_9lII9aiS4rUVp2jXwIvCruo27sG6&index=1&t=5s\n",
      "[youtube:tab] Downloading playlist PLu0W_9lII9aiS4rUVp2jXwIvCruo27sG6 - add --no-playlist to download just the video BP-w99ZINTc\n",
      "[youtube:tab] PLu0W_9lII9aiS4rUVp2jXwIvCruo27sG6: Downloading webpage\n",
      "[youtube:tab] Extracting URL: https://www.youtube.com/playlist?list=PLu0W_9lII9aiS4rUVp2jXwIvCruo27sG6\n",
      "[youtube:tab] PLu0W_9lII9aiS4rUVp2jXwIvCruo27sG6: Downloading webpage\n",
      "[youtube:tab] PLu0W_9lII9aiS4rUVp2jXwIvCruo27sG6: Redownloading playlist API JSON with unavailable videos\n",
      "[download] Downloading playlist: Generative AI Series - Showcasing Generative AI By Building Projects\n",
      "[youtube:tab] PLu0W_9lII9aiS4rUVp2jXwIvCruo27sG6 page 1: Downloading API JSON\n"
     ]
    },
    {
     "name": "stderr",
     "output_type": "stream",
     "text": [
      "WARNING: [youtube:tab] Incomplete data received. Retrying (1/3)...\n"
     ]
    },
    {
     "name": "stdout",
     "output_type": "stream",
     "text": [
      "[youtube:tab] PLu0W_9lII9aiS4rUVp2jXwIvCruo27sG6 page 1: Downloading API JSON\n"
     ]
    },
    {
     "name": "stderr",
     "output_type": "stream",
     "text": [
      "WARNING: [youtube:tab] Incomplete data received. Retrying (2/3)...\n"
     ]
    },
    {
     "name": "stdout",
     "output_type": "stream",
     "text": [
      "[youtube:tab] PLu0W_9lII9aiS4rUVp2jXwIvCruo27sG6 page 1: Downloading API JSON\n"
     ]
    },
    {
     "name": "stderr",
     "output_type": "stream",
     "text": [
      "WARNING: [youtube:tab] Incomplete data received. Retrying (3/3)...\n"
     ]
    },
    {
     "name": "stdout",
     "output_type": "stream",
     "text": [
      "[youtube:tab] PLu0W_9lII9aiS4rUVp2jXwIvCruo27sG6 page 1: Downloading API JSON\n"
     ]
    },
    {
     "name": "stderr",
     "output_type": "stream",
     "text": [
      "WARNING: [youtube:tab] Incomplete data received. Giving up after 3 retries\n"
     ]
    },
    {
     "name": "stdout",
     "output_type": "stream",
     "text": [
      "[youtube:tab] Playlist Generative AI Series - Showcasing Generative AI By Building Projects: Downloading 6 items of 6\n",
      "[download] Downloading item 1 of 6\n",
      "[youtube] Extracting URL: https://www.youtube.com/watch?v=BP-w99ZINTc\n",
      "[youtube] BP-w99ZINTc: Downloading webpage\n",
      "[youtube] BP-w99ZINTc: Downloading ios player API JSON\n",
      "[youtube] BP-w99ZINTc: Downloading mweb player API JSON\n",
      "[youtube] BP-w99ZINTc: Downloading m3u8 information\n",
      "[download] Downloading item 2 of 6\n",
      "[youtube] Extracting URL: https://www.youtube.com/watch?v=dGdA9z6gBkM\n",
      "[youtube] dGdA9z6gBkM: Downloading webpage\n",
      "[youtube] dGdA9z6gBkM: Downloading ios player API JSON\n",
      "[youtube] dGdA9z6gBkM: Downloading mweb player API JSON\n",
      "[youtube] dGdA9z6gBkM: Downloading m3u8 information\n",
      "[download] Downloading item 3 of 6\n",
      "[youtube] Extracting URL: https://www.youtube.com/watch?v=cQUUkZnyoD0\n",
      "[youtube] cQUUkZnyoD0: Downloading webpage\n",
      "[youtube] cQUUkZnyoD0: Downloading ios player API JSON\n",
      "[youtube] cQUUkZnyoD0: Downloading mweb player API JSON\n",
      "[youtube] cQUUkZnyoD0: Downloading m3u8 information\n",
      "[download] Downloading item 4 of 6\n",
      "[youtube] Extracting URL: https://www.youtube.com/watch?v=eEeqw8-hNZk\n",
      "[youtube] eEeqw8-hNZk: Downloading webpage\n",
      "[youtube] eEeqw8-hNZk: Downloading ios player API JSON\n",
      "[youtube] eEeqw8-hNZk: Downloading mweb player API JSON\n",
      "[youtube] eEeqw8-hNZk: Downloading m3u8 information\n",
      "[download] Downloading item 5 of 6\n",
      "[youtube] Extracting URL: https://www.youtube.com/watch?v=pXvfcoag-VE\n",
      "[youtube] pXvfcoag-VE: Downloading webpage\n",
      "[youtube] pXvfcoag-VE: Downloading ios player API JSON\n",
      "[youtube] pXvfcoag-VE: Downloading mweb player API JSON\n",
      "[youtube] pXvfcoag-VE: Downloading m3u8 information\n",
      "[download] Downloading item 6 of 6\n",
      "[youtube] Extracting URL: https://www.youtube.com/watch?v=KRhvlB1mOts\n",
      "[youtube] KRhvlB1mOts: Downloading webpage\n",
      "[youtube] KRhvlB1mOts: Downloading ios player API JSON\n",
      "[youtube] KRhvlB1mOts: Downloading mweb player API JSON\n",
      "[youtube] KRhvlB1mOts: Downloading m3u8 information\n",
      "[download] Finished downloading playlist: Generative AI Series - Showcasing Generative AI By Building Projects\n",
      "Downloading playlist: Generative AI Series - Showcasing Generative AI By Building Projects\n",
      "[youtube:tab] Extracting URL: https://www.youtube.com/watch?v=BP-w99ZINTc&list=PLu0W_9lII9aiS4rUVp2jXwIvCruo27sG6&index=1&t=5s\n",
      "[youtube:tab] Downloading playlist PLu0W_9lII9aiS4rUVp2jXwIvCruo27sG6 - add --no-playlist to download just the video BP-w99ZINTc\n",
      "[youtube:tab] PLu0W_9lII9aiS4rUVp2jXwIvCruo27sG6: Downloading webpage\n",
      "[youtube:tab] Extracting URL: https://www.youtube.com/playlist?list=PLu0W_9lII9aiS4rUVp2jXwIvCruo27sG6\n",
      "[youtube:tab] PLu0W_9lII9aiS4rUVp2jXwIvCruo27sG6: Downloading webpage\n",
      "[youtube:tab] PLu0W_9lII9aiS4rUVp2jXwIvCruo27sG6: Redownloading playlist API JSON with unavailable videos\n",
      "[download] Downloading playlist: Generative AI Series - Showcasing Generative AI By Building Projects\n",
      "[youtube:tab] PLu0W_9lII9aiS4rUVp2jXwIvCruo27sG6 page 1: Downloading API JSON\n"
     ]
    },
    {
     "name": "stderr",
     "output_type": "stream",
     "text": [
      "WARNING: [youtube:tab] Incomplete data received. Retrying (1/3)...\n"
     ]
    },
    {
     "name": "stdout",
     "output_type": "stream",
     "text": [
      "[youtube:tab] PLu0W_9lII9aiS4rUVp2jXwIvCruo27sG6 page 1: Downloading API JSON\n"
     ]
    },
    {
     "name": "stderr",
     "output_type": "stream",
     "text": [
      "WARNING: [youtube:tab] Incomplete data received. Retrying (2/3)...\n"
     ]
    },
    {
     "name": "stdout",
     "output_type": "stream",
     "text": [
      "[youtube:tab] PLu0W_9lII9aiS4rUVp2jXwIvCruo27sG6 page 1: Downloading API JSON\n"
     ]
    },
    {
     "name": "stderr",
     "output_type": "stream",
     "text": [
      "WARNING: [youtube:tab] Incomplete data received. Retrying (3/3)...\n"
     ]
    },
    {
     "name": "stdout",
     "output_type": "stream",
     "text": [
      "[youtube:tab] PLu0W_9lII9aiS4rUVp2jXwIvCruo27sG6 page 1: Downloading API JSON\n"
     ]
    },
    {
     "name": "stderr",
     "output_type": "stream",
     "text": [
      "WARNING: [youtube:tab] Incomplete data received. Giving up after 3 retries\n"
     ]
    },
    {
     "name": "stdout",
     "output_type": "stream",
     "text": [
      "[youtube:tab] Playlist Generative AI Series - Showcasing Generative AI By Building Projects: Downloading 6 items of 6\n",
      "[download] Downloading item 1 of 6\n",
      "[youtube] Extracting URL: https://www.youtube.com/watch?v=BP-w99ZINTc\n",
      "[youtube] BP-w99ZINTc: Downloading webpage\n",
      "[youtube] BP-w99ZINTc: Downloading ios player API JSON\n",
      "[youtube] BP-w99ZINTc: Downloading mweb player API JSON\n",
      "[youtube] BP-w99ZINTc: Downloading m3u8 information\n",
      "[info] BP-w99ZINTc: Downloading 1 format(s): 302+251\n",
      "[download] Destination: downloads/Generative AI Series - Showcasing Generative AI By Building Projects/1 - HarryGPT - An AI Based Discord Bot 🔥 ｜ Generative AI Series.f302.webm\n",
      "[download] 100% of  136.86MiB in 00:01:42 at 1.34MiB/s     Downloaded: downloads/Generative AI Series - Showcasing Generative AI By Building Projects/1 - HarryGPT - An AI Based Discord Bot 🔥 ｜ Generative AI Series.f302.webm\n",
      "\n",
      "[download] Destination: downloads/Generative AI Series - Showcasing Generative AI By Building Projects/1 - HarryGPT - An AI Based Discord Bot 🔥 ｜ Generative AI Series.f251.webm\n",
      "[download] 100% of   49.70MiB in 00:00:48 at 1.02MiB/s     Downloaded: downloads/Generative AI Series - Showcasing Generative AI By Building Projects/1 - HarryGPT - An AI Based Discord Bot 🔥 ｜ Generative AI Series.f251.webm\n",
      "\n",
      "[Merger] Merging formats into \"downloads/Generative AI Series - Showcasing Generative AI By Building Projects/1 - HarryGPT - An AI Based Discord Bot 🔥 ｜ Generative AI Series.mp4\"\n",
      "Deleting original file downloads/Generative AI Series - Showcasing Generative AI By Building Projects/1 - HarryGPT - An AI Based Discord Bot 🔥 ｜ Generative AI Series.f251.webm (pass -k to keep)\n",
      "Deleting original file downloads/Generative AI Series - Showcasing Generative AI By Building Projects/1 - HarryGPT - An AI Based Discord Bot 🔥 ｜ Generative AI Series.f302.webm (pass -k to keep)\n",
      "[VideoConvertor] Not converting media file \"downloads/Generative AI Series - Showcasing Generative AI By Building Projects/1 - HarryGPT - An AI Based Discord Bot 🔥 ｜ Generative AI Series.mp4\"; already is in target format mp4\n",
      "[download] Downloading item 2 of 6\n",
      "[youtube] Extracting URL: https://www.youtube.com/watch?v=dGdA9z6gBkM\n",
      "[youtube] dGdA9z6gBkM: Downloading webpage\n",
      "[youtube] dGdA9z6gBkM: Downloading ios player API JSON\n",
      "[youtube] dGdA9z6gBkM: Downloading mweb player API JSON\n",
      "[youtube] dGdA9z6gBkM: Downloading m3u8 information\n",
      "[info] dGdA9z6gBkM: Downloading 1 format(s): 398+251\n",
      "[download] Destination: downloads/Generative AI Series - Showcasing Generative AI By Building Projects/2 - Lets Build a Dall-E Image Generator Using OpenAI, Flask & Replit ｜ Generative AI Series 🔥.f398.mp4\n",
      "[download] 100% of   93.83MiB in 00:01:03 at 1.48MiB/s     Downloaded: downloads/Generative AI Series - Showcasing Generative AI By Building Projects/2 - Lets Build a Dall-E Image Generator Using OpenAI, Flask & Replit ｜ Generative AI Series 🔥.f398.mp4\n",
      "\n",
      "[download] Destination: downloads/Generative AI Series - Showcasing Generative AI By Building Projects/2 - Lets Build a Dall-E Image Generator Using OpenAI, Flask & Replit ｜ Generative AI Series 🔥.f251.webm\n",
      "[download] 100% of   42.25MiB in 00:00:39 at 1.07MiB/s     Downloaded: downloads/Generative AI Series - Showcasing Generative AI By Building Projects/2 - Lets Build a Dall-E Image Generator Using OpenAI, Flask & Replit ｜ Generative AI Series 🔥.f251.webm\n",
      "\n",
      "[Merger] Merging formats into \"downloads/Generative AI Series - Showcasing Generative AI By Building Projects/2 - Lets Build a Dall-E Image Generator Using OpenAI, Flask & Replit ｜ Generative AI Series 🔥.mp4\"\n",
      "Deleting original file downloads/Generative AI Series - Showcasing Generative AI By Building Projects/2 - Lets Build a Dall-E Image Generator Using OpenAI, Flask & Replit ｜ Generative AI Series 🔥.f251.webm (pass -k to keep)\n",
      "Deleting original file downloads/Generative AI Series - Showcasing Generative AI By Building Projects/2 - Lets Build a Dall-E Image Generator Using OpenAI, Flask & Replit ｜ Generative AI Series 🔥.f398.mp4 (pass -k to keep)\n",
      "[VideoConvertor] Not converting media file \"downloads/Generative AI Series - Showcasing Generative AI By Building Projects/2 - Lets Build a Dall-E Image Generator Using OpenAI, Flask & Replit ｜ Generative AI Series 🔥.mp4\"; already is in target format mp4\n",
      "[download] Downloading item 3 of 6\n",
      "[youtube] Extracting URL: https://www.youtube.com/watch?v=cQUUkZnyoD0\n",
      "[youtube] cQUUkZnyoD0: Downloading webpage\n",
      "[youtube] cQUUkZnyoD0: Downloading ios player API JSON\n",
      "[youtube] cQUUkZnyoD0: Downloading mweb player API JSON\n",
      "[youtube] cQUUkZnyoD0: Downloading m3u8 information\n",
      "[info] cQUUkZnyoD0: Downloading 1 format(s): 398+251\n",
      "[download] Destination: downloads/Generative AI Series - Showcasing Generative AI By Building Projects/3 - LangChain Tutorial for Beginners ｜ Generative AI Series 🔥.f398.mp4\n",
      "[download] 100% of   76.11MiB in 00:01:31 at 847.69KiB/s    Downloaded: downloads/Generative AI Series - Showcasing Generative AI By Building Projects/3 - LangChain Tutorial for Beginners ｜ Generative AI Series 🔥.f398.mp4\n",
      "\n",
      "[download] Destination: downloads/Generative AI Series - Showcasing Generative AI By Building Projects/3 - LangChain Tutorial for Beginners ｜ Generative AI Series 🔥.f251.webm\n",
      "[download] 100% of   54.81MiB in 00:00:46 at 1.18MiB/s     Downloaded: downloads/Generative AI Series - Showcasing Generative AI By Building Projects/3 - LangChain Tutorial for Beginners ｜ Generative AI Series 🔥.f251.webm\n",
      "\n",
      "[Merger] Merging formats into \"downloads/Generative AI Series - Showcasing Generative AI By Building Projects/3 - LangChain Tutorial for Beginners ｜ Generative AI Series 🔥.mp4\"\n",
      "Deleting original file downloads/Generative AI Series - Showcasing Generative AI By Building Projects/3 - LangChain Tutorial for Beginners ｜ Generative AI Series 🔥.f251.webm (pass -k to keep)\n",
      "Deleting original file downloads/Generative AI Series - Showcasing Generative AI By Building Projects/3 - LangChain Tutorial for Beginners ｜ Generative AI Series 🔥.f398.mp4 (pass -k to keep)\n",
      "[VideoConvertor] Not converting media file \"downloads/Generative AI Series - Showcasing Generative AI By Building Projects/3 - LangChain Tutorial for Beginners ｜ Generative AI Series 🔥.mp4\"; already is in target format mp4\n",
      "[download] Downloading item 4 of 6\n",
      "[youtube] Extracting URL: https://www.youtube.com/watch?v=eEeqw8-hNZk\n",
      "[youtube] eEeqw8-hNZk: Downloading webpage\n",
      "[youtube] eEeqw8-hNZk: Downloading ios player API JSON\n",
      "[youtube] eEeqw8-hNZk: Downloading mweb player API JSON\n",
      "[youtube] eEeqw8-hNZk: Downloading m3u8 information\n",
      "[info] eEeqw8-hNZk: Downloading 1 format(s): 302+251\n",
      "[download] Destination: downloads/Generative AI Series - Showcasing Generative AI By Building Projects/4 - Creating an Article Generator Website using Langchain and OpenAI ｜ Generative AI Series 🔥.f302.webm\n",
      "[download]  98.2% of  119.49MiB at  504.76KiB/s ETA 00:04   "
     ]
    },
    {
     "name": "stderr",
     "output_type": "stream",
     "text": [
      "[download] Got error: HTTPSConnectionPool(host='rr3---sn-5jucgv5qc5oq-cagr.googlevideo.com', port=443): Read timed out.\n"
     ]
    },
    {
     "name": "stdout",
     "output_type": "stream",
     "text": [
      "[download] Got error: HTTPSConnectionPool(host='rr3---sn-5jucgv5qc5oq-cagr.googlevideo.com', port=443): Read timed out.\n"
     ]
    }
   ],
   "source": [
    "import os\n",
    "import yt_dlp\n",
    "\n",
    "def detect_url_type(url):\n",
    "    \"\"\"\n",
    "    Detects if a URL is for a single video or a playlist.\n",
    "    \n",
    "    Args:\n",
    "        url (str): The YouTube URL to check.\n",
    "    \n",
    "    Returns:\n",
    "        str: \"single video\" if it's a video URL, \"playlist\" if it's a playlist URL.\n",
    "    \"\"\"\n",
    "    try:\n",
    "        # Initialize yt-dlp with options\n",
    "        ydl_opts = {'quiet': True}\n",
    "        \n",
    "        # Extract video information without downloading\n",
    "        with yt_dlp.YoutubeDL(ydl_opts) as ydl:\n",
    "            info_dict = ydl.extract_info(url, download=False)\n",
    "            \n",
    "            # Check if it's a playlist or a single video\n",
    "            if 'entries' in info_dict:\n",
    "                if len(info_dict['entries']) > 1:\n",
    "                    return \"playlist\"\n",
    "                else:\n",
    "                    return \"single video\"\n",
    "            else:\n",
    "                return \"single video\"\n",
    "    except Exception as e:\n",
    "        print(f\"Error: {e}\")\n",
    "        return \"Invalid URL\"\n",
    "\n",
    "\n",
    "def download_video_with_audio(video_url, output_directory=\"downloads\"):\n",
    "    \"\"\"\n",
    "    Downloads a single YouTube video with audio based on the resolution available.\n",
    "    \n",
    "    Args:\n",
    "        video_url (str): The YouTube video URL.\n",
    "        output_directory (str): Directory to save the downloaded video.\n",
    "    \"\"\"\n",
    "    # Directory to save downloaded files\n",
    "    os.makedirs(output_directory, exist_ok=True)\n",
    "\n",
    "    try:\n",
    "        with yt_dlp.YoutubeDL({'quiet': True}) as ydl:\n",
    "            # Extract video info without downloading\n",
    "            info_dict = ydl.extract_info(video_url, download=False)\n",
    "            video_title = info_dict.get('title', 'Unnamed Video')\n",
    "            formats = info_dict.get('formats', [])\n",
    "\n",
    "            # Create a folder using the video title\n",
    "            video_folder = os.path.join(output_directory, video_title)\n",
    "            os.makedirs(video_folder, exist_ok=True)\n",
    "            \n",
    "            # Video format preferences (720p and 1080p)\n",
    "            preferred_formats = {\n",
    "                '720': '(bv*[height=720]+ba)',  # 720p with audio\n",
    "                '1080': '(bv*[height=1080]+ba)',  # 1080p with audio\n",
    "            }\n",
    "\n",
    "            # Check for 720p or 1080p video availability\n",
    "            is_720p_available = any(f.get('height') == 720 for f in formats)\n",
    "            is_1080p_available = any(f.get('height') == 1080 for f in formats)\n",
    "\n",
    "            if is_720p_available:\n",
    "                print(\"720p with audio available. Downloading...\")\n",
    "                ydl_opts = {\n",
    "                    'format': preferred_formats['720'],\n",
    "                    'merge_output_format': 'mp4',\n",
    "                    'outtmpl': os.path.join(video_folder, '%(title)s.%(ext)s'),\n",
    "                }\n",
    "            elif is_1080p_available:\n",
    "                print(\"720p not available. Downloading 1080p with audio...\")\n",
    "                ydl_opts = {\n",
    "                    'format': preferred_formats['1080'],\n",
    "                    'merge_output_format': 'mp4',\n",
    "                    'outtmpl': os.path.join(video_folder, '%(title)s.%(ext)s'),\n",
    "                }\n",
    "            else:\n",
    "                # If neither 720p nor 1080p are available, download the highest available resolution with audio\n",
    "                print(\"720p and 1080p are not available. Downloading the highest available resolution with audio...\")\n",
    "                highest_res_format = max(formats, key=lambda f: f.get('height', 0))  # Get highest resolution\n",
    "                ydl_opts = {\n",
    "                    'format': f\"b{highest_res_format['format_id']}+ba\",  # Highest resolution with audio\n",
    "                    'merge_output_format': 'mp4',\n",
    "                    'outtmpl': os.path.join(video_folder, '%(title)s.%(ext)s'),\n",
    "                }\n",
    "\n",
    "            # Download the selected video format\n",
    "            with yt_dlp.YoutubeDL(ydl_opts) as ydl:\n",
    "                ydl.download([video_url])\n",
    "\n",
    "            print(f\"Download complete! The video has been saved in: {video_folder}\")\n",
    "\n",
    "    except Exception as e:\n",
    "        print(f\"An error occurred: {e}\")\n",
    "\n",
    "\n",
    "def download_playlist_with_audio(playlist_url, output_directory=\"downloads\"):\n",
    "    \"\"\"\n",
    "    Downloads a YouTube playlist with the specified conditions.\n",
    "    \n",
    "    Args:\n",
    "        playlist_url (str): The YouTube playlist URL.\n",
    "        output_directory (str): Directory to save the downloaded playlist.\n",
    "    \"\"\"\n",
    "    # Ensure the output directory exists\n",
    "    os.makedirs(output_directory, exist_ok=True)\n",
    "\n",
    "    def progress_hook(d):\n",
    "        \"\"\"Display download progress.\"\"\"\n",
    "        if d['status'] == 'finished':\n",
    "            print(f\"Downloaded: {d['filename']}\")\n",
    "\n",
    "    ydl_opts = {\n",
    "        'quiet': False,\n",
    "        'format': '(bv*[height=720]+ba/bv*[height=1080]+ba/bv+ba/b)',  # Prefer 720p, then 1080p, then highest\n",
    "        'merge_output_format': 'mp4',\n",
    "        'progress_hooks': [progress_hook],\n",
    "        'outtmpl': f'{output_directory}/%(playlist_title)s/%(playlist_index)s - %(title)s.%(ext)s',  # Folder for playlist\n",
    "        'postprocessors': [{\n",
    "            'key': 'FFmpegVideoConvertor',\n",
    "            'preferedformat': 'mp4',\n",
    "        }],\n",
    "        'skip_download': False,  # Ensure videos are downloaded\n",
    "    }\n",
    "\n",
    "    try:\n",
    "        with yt_dlp.YoutubeDL(ydl_opts) as ydl:\n",
    "            info_dict = ydl.extract_info(playlist_url, download=False)\n",
    "            if \"entries\" not in info_dict:\n",
    "                print(\"No videos found in the playlist!\")\n",
    "                return\n",
    "\n",
    "            playlist_title = info_dict.get('title', 'Unnamed Playlist')\n",
    "            print(f\"Downloading playlist: {playlist_title}\")\n",
    "\n",
    "            # Download videos in the playlist\n",
    "            ydl.download([playlist_url])\n",
    "\n",
    "        print(f\"All videos from '{playlist_title}' have been downloaded!\")\n",
    "\n",
    "    except Exception as e:\n",
    "        print(f\"An error occurred: {e}\")\n",
    "\n",
    "\n",
    "def main():\n",
    "    # Get the URL from the user\n",
    "    url = input(\"Enter the YouTube URL (single video or playlist): \").strip()\n",
    "\n",
    "    # Detect whether the URL is for a single video or a playlist\n",
    "    url_type = detect_url_type(url)\n",
    "    \n",
    "    if url_type == \"single video\":\n",
    "        print(\"Detected single video URL.\")\n",
    "        download_video_with_audio(url)\n",
    "    elif url_type == \"playlist\":\n",
    "        print(\"Detected playlist URL.\")\n",
    "        download_playlist_with_audio(url)\n",
    "    else:\n",
    "        print(\"Invalid URL. Please enter a valid YouTube video or playlist URL.\")\n",
    "\n",
    "\n",
    "# Run the main function\n",
    "if __name__ == \"__main__\":\n",
    "    main()\n"
   ]
  },
  {
   "cell_type": "code",
   "execution_count": null,
   "id": "7c2cc452-1aab-4f84-b6aa-987e39c7f39a",
   "metadata": {},
   "outputs": [],
   "source": []
  }
 ],
 "metadata": {
  "kernelspec": {
   "display_name": "Python 3 (ipykernel)",
   "language": "python",
   "name": "python3"
  },
  "language_info": {
   "codemirror_mode": {
    "name": "ipython",
    "version": 3
   },
   "file_extension": ".py",
   "mimetype": "text/x-python",
   "name": "python",
   "nbconvert_exporter": "python",
   "pygments_lexer": "ipython3",
   "version": "3.10.12"
  }
 },
 "nbformat": 4,
 "nbformat_minor": 5
}
